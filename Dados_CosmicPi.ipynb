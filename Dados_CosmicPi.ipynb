{
  "nbformat": 4,
  "nbformat_minor": 0,
  "metadata": {
    "colab": {
      "name": "Dados-CosmicPi.ipynb",
      "provenance": [],
      "authorship_tag": "ABX9TyNve4FOGcppoygSVMpCfKOs",
      "include_colab_link": true
    },
    "kernelspec": {
      "name": "python3",
      "display_name": "Python 3"
    }
  },
  "cells": [
    {
      "cell_type": "markdown",
      "metadata": {
        "id": "view-in-github",
        "colab_type": "text"
      },
      "source": [
        "<a href=\"https://colab.research.google.com/github/taisizidoro/ic/blob/main/Dados_CosmicPi.ipynb\" target=\"_parent\"><img src=\"https://colab.research.google.com/assets/colab-badge.svg\" alt=\"Open In Colab\"/></a>"
      ]
    },
    {
      "cell_type": "markdown",
      "metadata": {
        "id": "NnYyTyudVT-R"
      },
      "source": [
        "Acessando os dados do excel."
      ]
    },
    {
      "cell_type": "code",
      "metadata": {
        "id": "tKBDmk28ZEaw",
        "outputId": "a5e845f4-301b-47bc-af76-190e9ebe0fde",
        "colab": {
          "base_uri": "https://localhost:8080/"
        }
      },
      "source": [
        "import os\n",
        "\n",
        "cwd = os.getcwd()  # Get the current working directory (cwd)\n",
        "files = os.listdir(cwd)  # Get all the files in that directory\n",
        "print(\"Files in %r: %s\" % (cwd, files))"
      ],
      "execution_count": 4,
      "outputs": [
        {
          "output_type": "stream",
          "text": [
            "Files in '/content': ['.config', 'gdrive', 'sample_data']\n"
          ],
          "name": "stdout"
        }
      ]
    },
    {
      "cell_type": "code",
      "metadata": {
        "id": "XD4galq928Ri",
        "outputId": "aba33b8e-cb11-4ada-b07a-10f902a01c6f",
        "colab": {
          "base_uri": "https://localhost:8080/"
        }
      },
      "source": [
        "from google.colab import drive \n",
        "drive.mount('/content/gdrive') "
      ],
      "execution_count": 2,
      "outputs": [
        {
          "output_type": "stream",
          "text": [
            "Mounted at /content/gdrive\n"
          ],
          "name": "stdout"
        }
      ]
    },
    {
      "cell_type": "code",
      "metadata": {
        "id": "ONCfpJ-hU17H",
        "outputId": "0f6832bd-302f-4889-c637-fad2bcf2f4fd",
        "colab": {
          "base_uri": "https://localhost:8080/",
          "height": 407
        }
      },
      "source": [
        "import pandas as pd\n",
        "import numpy as np\n",
        "import matplotlib.pyplot as plt\n",
        "\n",
        "lista = []\n",
        "df = pd.read_csv(\"/content/gdrive/My Drive/CosmicPi_data.csv\")\n",
        "\n",
        "for column in df.columns: \n",
        "    li = df[column].tolist() \n",
        "    lista.append(li) \n",
        "\n",
        "b = lista[0]\n",
        "c = [d-1573478056 for d in b]\n",
        "c.sort()\n",
        "\n",
        "\n",
        "a = len(c)\n",
        "e = np.arange(a)\n",
        "fig, axs = plt.subplots(1, 1, sharey=True, tight_layout=True, dpi = 100)\n",
        "axs.hist(c,bins= a)\n",
        "axs.grid()\n",
        "axs.set_title(\"Dados Coletados Pelo Cosmic Pi\")\n",
        "axs.set_xlabel(\"Tempo (s)\")\n",
        "axs.set_ylabel(\"Eventos\")\n",
        "plt.savefig(fname = \"dados-cosmicpi.png\", edgecolor = \"white\", bbox_inches = \"tight\", dpi=fig.dpi) \n",
        "plt.show()"
      ],
      "execution_count": 31,
      "outputs": [
        {
          "output_type": "display_data",
          "data": {
            "image/png": "[encoded data removed]",
            "text/plain": [
              "<Figure size 600x400 with 1 Axes>"
            ]
          },
          "metadata": {
            "tags": [],
            "needs_background": "light"
          }
        }
      ]
    }
  ]
}